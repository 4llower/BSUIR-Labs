{
 "metadata": {
  "orig_nbformat": 4,
  "kernelspec": {
   "name": "python3",
   "display_name": "Python 3",
   "language": "python"
  }
 },
 "nbformat": 4,
 "nbformat_minor": 2,
 "cells": [
  {
   "source": [
    "# Лабораторная Работа №1\n",
    "## Вариант 19"
   ],
   "cell_type": "markdown",
   "metadata": {}
  },
  {
   "source": [
    "$\n",
    "Y = \\sqrt[3]x;\n",
    "m_x = 1;\n",
    "\\sigma = \\sqrt3;\n",
    "y_0 = 0\n",
    "$"
   ],
   "cell_type": "markdown",
   "metadata": {}
  },
  {
   "cell_type": "code",
   "execution_count": null,
   "metadata": {},
   "outputs": [],
   "source": []
  }
 ]
}